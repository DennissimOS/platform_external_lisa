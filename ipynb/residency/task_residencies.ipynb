{
 "cells": [
  {
   "cell_type": "code",
   "execution_count": 12,
   "metadata": {
    "collapsed": false
   },
   "outputs": [
    {
     "name": "stderr",
     "output_type": "stream",
     "text": [
      "2017-07-08 21:57:30,370 INFO    : root         : Using LISA logging configuration:\n",
      "2017-07-08 21:57:30,372 INFO    : root         :   /home/joelaf/repo/lisa-aosp/external/lisa/logging.conf\n",
      "2017-07-08 21:57:30,374 INFO    : root         : #### Setup FTrace\n"
     ]
    }
   ],
   "source": [
    "#!/usr/bin/env python\n",
    "\n",
    "import trappy\n",
    "from trace import Trace\n",
    "import itertools\n",
    "import logging\n",
    "import os\n",
    "\n",
    "from conf import LisaLogging\n",
    "LisaLogging.setup()\n",
    "logging.info('#### Setup FTrace')\n",
    "path_to_html = \"/home/joelaf/repo/lisa-aosp/external/lisa/results/UiBench_default/trace.html\""
   ]
  },
  {
   "cell_type": "code",
   "execution_count": 13,
   "metadata": {
    "collapsed": false
   },
   "outputs": [],
   "source": [
    "tr = Trace(None, path_to_html,\n",
    "           cgroup_info = { \n",
    "               'cgroups': ['foreground', 'background', 'system-background', 'top-app', 'rt'],\n",
    "               'controller_ids': { 2: 'cpuset', 4: 'schedtune' }\n",
    "           },\n",
    "           events=[ 'sched_switch', 'cgroup_attach_task_devlib', 'cgroup_attach_task' ])"
   ]
  },
  {
   "cell_type": "code",
   "execution_count": 27,
   "metadata": {
    "collapsed": false
   },
   "outputs": [
    {
     "data": {
      "text/html": [
       "<div>\n",
       "<table border=\"1\" class=\"dataframe\">\n",
       "  <thead>\n",
       "    <tr style=\"text-align: right;\">\n",
       "      <th></th>\n",
       "      <th>pid</th>\n",
       "      <th>controller</th>\n",
       "      <th>cgroup</th>\n",
       "    </tr>\n",
       "    <tr>\n",
       "      <th>Time</th>\n",
       "      <th></th>\n",
       "      <th></th>\n",
       "      <th></th>\n",
       "    </tr>\n",
       "  </thead>\n",
       "  <tbody>\n",
       "    <tr>\n",
       "      <th>0.202551</th>\n",
       "      <td>1</td>\n",
       "      <td>cpuset</td>\n",
       "      <td>root</td>\n",
       "    </tr>\n",
       "    <tr>\n",
       "      <th>0.202632</th>\n",
       "      <td>2</td>\n",
       "      <td>cpuset</td>\n",
       "      <td>root</td>\n",
       "    </tr>\n",
       "    <tr>\n",
       "      <th>0.202673</th>\n",
       "      <td>3</td>\n",
       "      <td>cpuset</td>\n",
       "      <td>root</td>\n",
       "    </tr>\n",
       "    <tr>\n",
       "      <th>0.202712</th>\n",
       "      <td>5</td>\n",
       "      <td>cpuset</td>\n",
       "      <td>root</td>\n",
       "    </tr>\n",
       "    <tr>\n",
       "      <th>0.202752</th>\n",
       "      <td>7</td>\n",
       "      <td>cpuset</td>\n",
       "      <td>root</td>\n",
       "    </tr>\n",
       "    <tr>\n",
       "      <th>0.202789</th>\n",
       "      <td>8</td>\n",
       "      <td>cpuset</td>\n",
       "      <td>root</td>\n",
       "    </tr>\n",
       "    <tr>\n",
       "      <th>0.202825</th>\n",
       "      <td>9</td>\n",
       "      <td>cpuset</td>\n",
       "      <td>root</td>\n",
       "    </tr>\n",
       "    <tr>\n",
       "      <th>0.202862</th>\n",
       "      <td>10</td>\n",
       "      <td>cpuset</td>\n",
       "      <td>root</td>\n",
       "    </tr>\n",
       "    <tr>\n",
       "      <th>0.202899</th>\n",
       "      <td>11</td>\n",
       "      <td>cpuset</td>\n",
       "      <td>root</td>\n",
       "    </tr>\n",
       "    <tr>\n",
       "      <th>0.202938</th>\n",
       "      <td>12</td>\n",
       "      <td>cpuset</td>\n",
       "      <td>root</td>\n",
       "    </tr>\n",
       "  </tbody>\n",
       "</table>\n",
       "</div>"
      ],
      "text/plain": [
       "          pid controller cgroup\n",
       "Time                           \n",
       "0.202551    1     cpuset   root\n",
       "0.202632    2     cpuset   root\n",
       "0.202673    3     cpuset   root\n",
       "0.202712    5     cpuset   root\n",
       "0.202752    7     cpuset   root\n",
       "0.202789    8     cpuset   root\n",
       "0.202825    9     cpuset   root\n",
       "0.202862   10     cpuset   root\n",
       "0.202899   11     cpuset   root\n",
       "0.202938   12     cpuset   root"
      ]
     },
     "execution_count": 27,
     "metadata": {},
     "output_type": "execute_result"
    }
   ],
   "source": [
    "tr.data_frame.cgroup_attach_task().head(10)\n"
   ]
  }
 ],
 "metadata": {
  "kernelspec": {
   "display_name": "Python 2",
   "language": "python",
   "name": "python2"
  },
  "language_info": {
   "codemirror_mode": {
    "name": "ipython",
    "version": 2
   },
   "file_extension": ".py",
   "mimetype": "text/x-python",
   "name": "python",
   "nbconvert_exporter": "python",
   "pygments_lexer": "ipython2",
   "version": "2.7.13"
  }
 },
 "nbformat": 4,
 "nbformat_minor": 2
}
